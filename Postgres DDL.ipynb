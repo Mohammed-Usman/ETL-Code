{
 "cells": [
  {
   "cell_type": "code",
   "execution_count": 23,
   "id": "basic-engineering",
   "metadata": {},
   "outputs": [],
   "source": [
    "#!pip install psycopg2"
   ]
  },
  {
   "cell_type": "code",
   "execution_count": 39,
   "id": "lasting-scroll",
   "metadata": {},
   "outputs": [
    {
     "name": "stdout",
     "output_type": "stream",
     "text": [
      "fe_sendauth: no password supplied\n",
      "\n"
     ]
    }
   ],
   "source": [
    "import psycopg2\n",
    "from psycopg2 import Error\n",
    "\n",
    "try:\n",
    "    # Connect to an existing database\n",
    "    connection = psycopg2.connect(user=\"postgres\",host=\"localhost\", port=\"5432\", database=\"etlcode\",password=\"\")\n",
    "except Exception as e:\n",
    "    print(e)\n",
    "    "
   ]
  },
  {
   "cell_type": "code",
   "execution_count": 40,
   "id": "legitimate-posting",
   "metadata": {},
   "outputs": [],
   "source": [
    "#CREATE EXTENSION IF NOT EXISTS \"uuid-ossp\";\n",
    "# SELECT uuid_generate_v4();"
   ]
  },
  {
   "cell_type": "code",
   "execution_count": 41,
   "id": "british-nelson",
   "metadata": {},
   "outputs": [],
   "source": [
    "create_dept_table = \"\"\"CREATE TABLE IF NOT EXISTS department(\n",
    "id UUID PRIMARY KEY DEFAULT uuid_generate_v4(),\n",
    "name TEXT,\n",
    "salary_increment NUMERIC,\n",
    "UNIQUE(name)\n",
    ");\n",
    "\"\"\""
   ]
  },
  {
   "cell_type": "code",
   "execution_count": 42,
   "id": "separated-portsmouth",
   "metadata": {},
   "outputs": [],
   "source": [
    "create_emp_table = \"\"\"\n",
    "CREATE TABLE IF NOT EXISTS employee(\n",
    "    id UUID PRIMARY KEY DEFAULT uuid_generate_v4(),\n",
    "    first_name TEXT,\n",
    "    last_name TEXT,\n",
    "    salary NUMERIC,\n",
    "    department_id uuid,\n",
    "    UNIQUE(first_name,last_name),\n",
    "    CONSTRAINT fk_department\n",
    "    FOREIGN KEY(department_id) \n",
    "    REFERENCES department(id)\n",
    ");\n",
    "\"\"\""
   ]
  },
  {
   "cell_type": "code",
   "execution_count": 43,
   "id": "formal-highway",
   "metadata": {},
   "outputs": [],
   "source": [
    "create_up_sal_table = \"\"\"\n",
    "CREATE TABLE IF NOT EXISTS updated_salaries(\n",
    "employee_id uuid,\n",
    "updated_salary NUMERIC,\n",
    "UNIQUE(employee_id),\n",
    "CONSTRAINT fk_employee\n",
    "    FOREIGN KEY(employee_id) \n",
    "    REFERENCES employee(id)\n",
    ")\n",
    "\"\"\""
   ]
  },
  {
   "cell_type": "code",
   "execution_count": 58,
   "id": "northern-filing",
   "metadata": {},
   "outputs": [],
   "source": [
    "cur = connection.cursor()\n",
    "cur.execute(create_dept_table)\n",
    "cur.execute(create_emp_table)\n",
    "cur.execute(create_up_sal_table)\n",
    "cur.close()\n",
    "connection.commit()"
   ]
  },
  {
   "cell_type": "code",
   "execution_count": 51,
   "id": "aquatic-sharp",
   "metadata": {},
   "outputs": [],
   "source": [
    "cur = connection.cursor()\n",
    "cur.execute(\"DROP TABLE updated_salaries\")\n",
    "cur.execute(\"DROP TABLE employee\")\n",
    "cur.execute(\"DROP TABLE department\")\n",
    "\n"
   ]
  },
  {
   "cell_type": "code",
   "execution_count": 53,
   "id": "infinite-hampshire",
   "metadata": {},
   "outputs": [],
   "source": [
    "cur.close()\n",
    "connection.commit()\n"
   ]
  },
  {
   "cell_type": "raw",
   "id": "assigned-brooks",
   "metadata": {},
   "source": [
    "!pyspark --packages org.postgresql:postgresql:42.2.10"
   ]
  },
  {
   "cell_type": "code",
   "execution_count": 143,
   "id": "nuclear-description",
   "metadata": {},
   "outputs": [
    {
     "name": "stderr",
     "output_type": "stream",
     "text": [
      "Usage: pipenv [OPTIONS] COMMAND [ARGS]...\n",
      "Try \"pipenv -h\" for help.\n",
      "\n",
      "Error: no such option: --packages\n"
     ]
    }
   ],
   "source": [
    "!pipenv --packages org.postgresql:postgresql:42.2.10"
   ]
  },
  {
   "cell_type": "code",
   "execution_count": null,
   "id": "hourly-march",
   "metadata": {},
   "outputs": [],
   "source": [
    "#search for it \n",
    "\"\"\"\n",
    "--MERGE SQL statement - Part 2\n",
    "\n",
    "--Synchronize the target table with refreshed data from source table\n",
    "MERGE Products AS TARGET\n",
    "USING UpdatedProducts AS SOURCE \n",
    "ON (TARGET.ProductID = SOURCE.ProductID) \n",
    "--When records are matched, update the records if there is any change\n",
    "WHEN MATCHED AND TARGET.ProductName <> SOURCE.ProductName OR TARGET.Rate <> SOURCE.Rate \n",
    "THEN UPDATE SET TARGET.ProductName = SOURCE.ProductName, TARGET.Rate = SOURCE.Rate \n",
    "--When no records are matched, insert the incoming records from source table to target table\n",
    "WHEN NOT MATCHED BY TARGET \n",
    "THEN INSERT (ProductID, ProductName, Rate) VALUES (SOURCE.ProductID, SOURCE.ProductName, SOURCE.Rate)\n",
    "--When there is a row that exists in target and same record does not exist in source then delete this record target\n",
    "WHEN NOT MATCHED BY SOURCE \n",
    "THEN DELETE \n",
    "--$action specifies a column of type nvarchar(10) in the OUTPUT clause that returns \n",
    "--one of three values for each row: 'INSERT', 'UPDATE', or 'DELETE' according to the action that was performed on that row\n",
    "OUTPUT $action, \n",
    "DELETED.ProductID AS TargetProductID, \n",
    "DELETED.ProductName AS TargetProductName, \n",
    "DELETED.Rate AS TargetRate, \n",
    "INSERTED.ProductID AS SourceProductID, \n",
    "INSERTED.ProductName AS SourceProductName, \n",
    "INSERTED.Rate AS SourceRate; \n",
    "\n",
    "SELECT @@ROWCOUNT;\n",
    "GO\n",
    "\n",
    "\"\"\""
   ]
  }
 ],
 "metadata": {
  "kernelspec": {
   "display_name": "Python 3",
   "language": "python",
   "name": "python3"
  },
  "language_info": {
   "codemirror_mode": {
    "name": "ipython",
    "version": 3
   },
   "file_extension": ".py",
   "mimetype": "text/x-python",
   "name": "python",
   "nbconvert_exporter": "python",
   "pygments_lexer": "ipython3",
   "version": "3.7.5"
  }
 },
 "nbformat": 4,
 "nbformat_minor": 5
}
