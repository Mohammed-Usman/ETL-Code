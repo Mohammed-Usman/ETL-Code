{
 "cells": [
  {
   "cell_type": "code",
   "execution_count": 1,
   "id": "restricted-buying",
   "metadata": {},
   "outputs": [],
   "source": [
    "# File upload\n",
    "# Fetch Unique Dept\n",
    "# Join get new\n",
    "# Insert new\n",
    "# Get All Dept UUId\n",
    "# Map All UUID to df\n",
    "# Department updated\n",
    "# Department Inserted\n",
    "# Department Fetched with uuid\n",
    "# Employee MApped wiht department UUID\n",
    "# Employee Updated\n",
    "# Employeee INserted\n",
    "# Calculations"
   ]
  },
  {
   "cell_type": "code",
   "execution_count": 2,
   "id": "industrial-georgia",
   "metadata": {},
   "outputs": [],
   "source": [
    "import uuid\n",
    "from pyspark.sql import SparkSession\n",
    "from pyspark.sql.functions import udf\n",
    "from pyspark.sql.types import *\n",
    "from pyspark.sql.functions import *"
   ]
  },
  {
   "cell_type": "code",
   "execution_count": 3,
   "id": "acting-workplace",
   "metadata": {},
   "outputs": [],
   "source": [
    "spark = (\n",
    "    SparkSession.builder\n",
    "    .appName(\"UpdateEmployeeRecords\")\n",
    "    .enableHiveSupport()\n",
    "    .getOrCreate()\n",
    ")"
   ]
  },
  {
   "cell_type": "code",
   "execution_count": 4,
   "id": "applicable-moisture",
   "metadata": {},
   "outputs": [],
   "source": [
    "flat_schema = \"first_name STRING, last_name STRING, salary INT, dept_name STRING, salary_increment float\"\n",
    "flat_file = \"flat_data.csv\""
   ]
  },
  {
   "cell_type": "code",
   "execution_count": 5,
   "id": "mysterious-producer",
   "metadata": {},
   "outputs": [],
   "source": [
    "flat_data = spark.read.format(\"csv\").schema(flat_schema).option(\"header\",\"true\").load(flat_file)"
   ]
  },
  {
   "cell_type": "code",
   "execution_count": 7,
   "id": "norwegian-visit",
   "metadata": {},
   "outputs": [],
   "source": [
    "create_dept_tbl = \"\"\"\n",
    "CREATE TABLE IF NOT EXISTS department (\n",
    "id STRING,\n",
    "name STRING, \n",
    "salary_increment INT\n",
    ");\n",
    "\"\"\""
   ]
  },
  {
   "cell_type": "code",
   "execution_count": 8,
   "id": "exterior-functionality",
   "metadata": {},
   "outputs": [
    {
     "data": {
      "text/plain": [
       "DataFrame[]"
      ]
     },
     "execution_count": 8,
     "metadata": {},
     "output_type": "execute_result"
    }
   ],
   "source": [
    "spark.sql(create_dept_tbl)"
   ]
  },
  {
   "cell_type": "code",
   "execution_count": 11,
   "id": "younger-rogers",
   "metadata": {},
   "outputs": [],
   "source": [
    "dist_data = flat_data.select(\"dept_name\", \"salary_increment\").distinct()\n",
    "dist_dept_id = dist_data.select(\"*\").withColumn(\"id\",expr(\"uuid()\"))"
   ]
  },
  {
   "cell_type": "code",
   "execution_count": 13,
   "id": "seasonal-anthropology",
   "metadata": {},
   "outputs": [
    {
     "name": "stdout",
     "output_type": "stream",
     "text": [
      "+---------+----------------+--------------------+\n",
      "|dept_name|salary_increment|                  id|\n",
      "+---------+----------------+--------------------+\n",
      "|Marketing|            16.0|1c92fbec-b6c6-4c7...|\n",
      "|    Sales|            17.0|51a4ded2-759a-4e9...|\n",
      "|       IT|            15.0|3db4b954-a262-491...|\n",
      "|  Finance|            10.0|ee19cd5e-7003-4c2...|\n",
      "+---------+----------------+--------------------+\n",
      "\n"
     ]
    }
   ],
   "source": [
    "dist_dept_id.show()"
   ]
  },
  {
   "cell_type": "code",
   "execution_count": 15,
   "id": "joined-ministry",
   "metadata": {},
   "outputs": [
    {
     "data": {
      "text/plain": [
       "DataFrame[]"
      ]
     },
     "execution_count": 15,
     "metadata": {},
     "output_type": "execute_result"
    }
   ],
   "source": [
    "spark.sql(\"INSERT INTO department(name, salary_increment,id) VALUES('Sales',0,0)\")"
   ]
  },
  {
   "cell_type": "code",
   "execution_count": 21,
   "id": "cross-gothic",
   "metadata": {},
   "outputs": [],
   "source": [
    "dist_dept_id.createOrReplaceTempView(\"new_department\")"
   ]
  },
  {
   "cell_type": "code",
   "execution_count": 22,
   "id": "statutory-hampton",
   "metadata": {},
   "outputs": [
    {
     "name": "stdout",
     "output_type": "stream",
     "text": [
      "+---+-----+----------------+---------+----------------+--------------------+\n",
      "| id| name|salary_increment|dept_name|salary_increment|                  id|\n",
      "+---+-----+----------------+---------+----------------+--------------------+\n",
      "|  0|Sales|               0|    Sales|            17.0|51a4ded2-759a-4e9...|\n",
      "+---+-----+----------------+---------+----------------+--------------------+\n",
      "\n"
     ]
    }
   ],
   "source": [
    "spark.sql(\"SELECT * FROM department dp INNER JOIN new_department nd on dp.name = nd.dept_name\").show()"
   ]
  },
  {
   "cell_type": "code",
   "execution_count": 23,
   "id": "statewide-harrison",
   "metadata": {},
   "outputs": [],
   "source": [
    "# MERGE INTO driver as t USING source as s\n",
    "# ON t.id = s.id\n",
    "# WHEN MATCHED AND t.city = 'closed' THEN DELETE\n",
    "# WHEN MATCHED THEN UPDATE t.city = s.city, t.ratings = s.ratings\n",
    "# WHEN NOT MATCHED THEN INSERT VALUES (*)"
   ]
  },
  {
   "cell_type": "code",
   "execution_count": 24,
   "id": "speaking-covering",
   "metadata": {},
   "outputs": [],
   "source": [
    "merge_new_dept = \"\"\"\n",
    "MERGE INTO department od USING new_department nd  \n",
    "ON od.name = nd.dept_name\n",
    "WHEN MATCHED THEN UPDATE od.id = nd.id, od.salary_increment = nd.salary_increment\n",
    "\"\"\""
   ]
  },
  {
   "cell_type": "code",
   "execution_count": 29,
   "id": "processed-gnome",
   "metadata": {},
   "outputs": [],
   "source": [
    "merge_new_dept = \"\"\"\n",
    "MERGE INTO department as od USING new_department as nd  \n",
    "ON od.name = nd.dept_name\n",
    "WHEN MATCHED THEN UPDATE od.salary_increment = nd.salary_increment\n",
    "\"\"\""
   ]
  },
  {
   "cell_type": "code",
   "execution_count": 35,
   "id": "strategic-government",
   "metadata": {},
   "outputs": [],
   "source": [
    "merge_new_dept = \"\"\"\n",
    "MERGE INTO department USING new_department\n",
    "ON department.name = new_department.dept_name\n",
    "WHEN MATCHED THEN UPDATE department.salary_increment = new_department.salary_increment\n",
    "\"\"\""
   ]
  },
  {
   "cell_type": "code",
   "execution_count": 36,
   "id": "grand-rotation",
   "metadata": {
    "scrolled": true
   },
   "outputs": [
    {
     "ename": "ParseException",
     "evalue": "\nno viable alternative at input 'UPDATE department'(line 4, pos 25)\n\n== SQL ==\n\nMERGE INTO department USING new_department\nON department.name = new_department.dept_name\nWHEN MATCHED THEN UPDATE department.salary_increment = new_department.salary_increment\n-------------------------^^^\n",
     "output_type": "error",
     "traceback": [
      "\u001b[0;31m---------------------------------------------------------------------------\u001b[0m",
      "\u001b[0;31mParseException\u001b[0m                            Traceback (most recent call last)",
      "\u001b[0;32m<ipython-input-36-4636c4319f93>\u001b[0m in \u001b[0;36m<module>\u001b[0;34m\u001b[0m\n\u001b[0;32m----> 1\u001b[0;31m \u001b[0mspark\u001b[0m\u001b[0;34m.\u001b[0m\u001b[0msql\u001b[0m\u001b[0;34m(\u001b[0m\u001b[0mmerge_new_dept\u001b[0m\u001b[0;34m)\u001b[0m\u001b[0;34m\u001b[0m\u001b[0;34m\u001b[0m\u001b[0m\n\u001b[0m",
      "\u001b[0;32m~/.local/share/virtualenvs/ETL-CHALLENGE-bvuvn3JT/lib/python3.7/site-packages/pyspark/sql/session.py\u001b[0m in \u001b[0;36msql\u001b[0;34m(self, sqlQuery)\u001b[0m\n\u001b[1;32m    721\u001b[0m         \u001b[0;34m[\u001b[0m\u001b[0mRow\u001b[0m\u001b[0;34m(\u001b[0m\u001b[0mf1\u001b[0m\u001b[0;34m=\u001b[0m\u001b[0;36m1\u001b[0m\u001b[0;34m,\u001b[0m \u001b[0mf2\u001b[0m\u001b[0;34m=\u001b[0m\u001b[0;34m'row1'\u001b[0m\u001b[0;34m)\u001b[0m\u001b[0;34m,\u001b[0m \u001b[0mRow\u001b[0m\u001b[0;34m(\u001b[0m\u001b[0mf1\u001b[0m\u001b[0;34m=\u001b[0m\u001b[0;36m2\u001b[0m\u001b[0;34m,\u001b[0m \u001b[0mf2\u001b[0m\u001b[0;34m=\u001b[0m\u001b[0;34m'row2'\u001b[0m\u001b[0;34m)\u001b[0m\u001b[0;34m,\u001b[0m \u001b[0mRow\u001b[0m\u001b[0;34m(\u001b[0m\u001b[0mf1\u001b[0m\u001b[0;34m=\u001b[0m\u001b[0;36m3\u001b[0m\u001b[0;34m,\u001b[0m \u001b[0mf2\u001b[0m\u001b[0;34m=\u001b[0m\u001b[0;34m'row3'\u001b[0m\u001b[0;34m)\u001b[0m\u001b[0;34m]\u001b[0m\u001b[0;34m\u001b[0m\u001b[0;34m\u001b[0m\u001b[0m\n\u001b[1;32m    722\u001b[0m         \"\"\"\n\u001b[0;32m--> 723\u001b[0;31m         \u001b[0;32mreturn\u001b[0m \u001b[0mDataFrame\u001b[0m\u001b[0;34m(\u001b[0m\u001b[0mself\u001b[0m\u001b[0;34m.\u001b[0m\u001b[0m_jsparkSession\u001b[0m\u001b[0;34m.\u001b[0m\u001b[0msql\u001b[0m\u001b[0;34m(\u001b[0m\u001b[0msqlQuery\u001b[0m\u001b[0;34m)\u001b[0m\u001b[0;34m,\u001b[0m \u001b[0mself\u001b[0m\u001b[0;34m.\u001b[0m\u001b[0m_wrapped\u001b[0m\u001b[0;34m)\u001b[0m\u001b[0;34m\u001b[0m\u001b[0;34m\u001b[0m\u001b[0m\n\u001b[0m\u001b[1;32m    724\u001b[0m \u001b[0;34m\u001b[0m\u001b[0m\n\u001b[1;32m    725\u001b[0m     \u001b[0;32mdef\u001b[0m \u001b[0mtable\u001b[0m\u001b[0;34m(\u001b[0m\u001b[0mself\u001b[0m\u001b[0;34m,\u001b[0m \u001b[0mtableName\u001b[0m\u001b[0;34m)\u001b[0m\u001b[0;34m:\u001b[0m\u001b[0;34m\u001b[0m\u001b[0;34m\u001b[0m\u001b[0m\n",
      "\u001b[0;32m~/.local/share/virtualenvs/ETL-CHALLENGE-bvuvn3JT/lib/python3.7/site-packages/py4j/java_gateway.py\u001b[0m in \u001b[0;36m__call__\u001b[0;34m(self, *args)\u001b[0m\n\u001b[1;32m   1303\u001b[0m         \u001b[0manswer\u001b[0m \u001b[0;34m=\u001b[0m \u001b[0mself\u001b[0m\u001b[0;34m.\u001b[0m\u001b[0mgateway_client\u001b[0m\u001b[0;34m.\u001b[0m\u001b[0msend_command\u001b[0m\u001b[0;34m(\u001b[0m\u001b[0mcommand\u001b[0m\u001b[0;34m)\u001b[0m\u001b[0;34m\u001b[0m\u001b[0;34m\u001b[0m\u001b[0m\n\u001b[1;32m   1304\u001b[0m         return_value = get_return_value(\n\u001b[0;32m-> 1305\u001b[0;31m             answer, self.gateway_client, self.target_id, self.name)\n\u001b[0m\u001b[1;32m   1306\u001b[0m \u001b[0;34m\u001b[0m\u001b[0m\n\u001b[1;32m   1307\u001b[0m         \u001b[0;32mfor\u001b[0m \u001b[0mtemp_arg\u001b[0m \u001b[0;32min\u001b[0m \u001b[0mtemp_args\u001b[0m\u001b[0;34m:\u001b[0m\u001b[0;34m\u001b[0m\u001b[0;34m\u001b[0m\u001b[0m\n",
      "\u001b[0;32m~/.local/share/virtualenvs/ETL-CHALLENGE-bvuvn3JT/lib/python3.7/site-packages/pyspark/sql/utils.py\u001b[0m in \u001b[0;36mdeco\u001b[0;34m(*a, **kw)\u001b[0m\n\u001b[1;32m    115\u001b[0m                 \u001b[0;31m# Hide where the exception came from that shows a non-Pythonic\u001b[0m\u001b[0;34m\u001b[0m\u001b[0;34m\u001b[0m\u001b[0;34m\u001b[0m\u001b[0m\n\u001b[1;32m    116\u001b[0m                 \u001b[0;31m# JVM exception message.\u001b[0m\u001b[0;34m\u001b[0m\u001b[0;34m\u001b[0m\u001b[0;34m\u001b[0m\u001b[0m\n\u001b[0;32m--> 117\u001b[0;31m                 \u001b[0;32mraise\u001b[0m \u001b[0mconverted\u001b[0m \u001b[0;32mfrom\u001b[0m \u001b[0;32mNone\u001b[0m\u001b[0;34m\u001b[0m\u001b[0;34m\u001b[0m\u001b[0m\n\u001b[0m\u001b[1;32m    118\u001b[0m             \u001b[0;32melse\u001b[0m\u001b[0;34m:\u001b[0m\u001b[0;34m\u001b[0m\u001b[0;34m\u001b[0m\u001b[0m\n\u001b[1;32m    119\u001b[0m                 \u001b[0;32mraise\u001b[0m\u001b[0;34m\u001b[0m\u001b[0;34m\u001b[0m\u001b[0m\n",
      "\u001b[0;31mParseException\u001b[0m: \nno viable alternative at input 'UPDATE department'(line 4, pos 25)\n\n== SQL ==\n\nMERGE INTO department USING new_department\nON department.name = new_department.dept_name\nWHEN MATCHED THEN UPDATE department.salary_increment = new_department.salary_increment\n-------------------------^^^\n"
     ]
    }
   ],
   "source": [
    "spark.sql(merge_new_dept)"
   ]
  },
  {
   "cell_type": "code",
   "execution_count": null,
   "id": "detailed-albania",
   "metadata": {},
   "outputs": [],
   "source": [
    "dist_dept_id.w"
   ]
  }
 ],
 "metadata": {
  "kernelspec": {
   "display_name": "Python 3",
   "language": "python",
   "name": "python3"
  },
  "language_info": {
   "codemirror_mode": {
    "name": "ipython",
    "version": 3
   },
   "file_extension": ".py",
   "mimetype": "text/x-python",
   "name": "python",
   "nbconvert_exporter": "python",
   "pygments_lexer": "ipython3",
   "version": "3.7.5"
  }
 },
 "nbformat": 4,
 "nbformat_minor": 5
}
