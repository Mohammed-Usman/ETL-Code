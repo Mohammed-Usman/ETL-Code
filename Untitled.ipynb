{
 "cells": [
  {
   "cell_type": "code",
   "execution_count": 1,
   "id": "impossible-bowling",
   "metadata": {},
   "outputs": [],
   "source": [
    "# File upload\n",
    "# Fetch Unique Dept\n",
    "# Join get new\n",
    "# Insert new\n",
    "# Get All Dept UUId\n",
    "# Map All UUID to df\n",
    "# Department updated\n",
    "# Department Inserted\n",
    "# Department Fetched with uuid\n",
    "# Employee MApped wiht department UUID\n",
    "# Employee Updated\n",
    "# Employeee INserted\n",
    "# Calculations"
   ]
  },
  {
   "cell_type": "code",
   "execution_count": 2,
   "id": "clinical-tractor",
   "metadata": {},
   "outputs": [],
   "source": [
    "import uuid\n",
    "from pyspark.sql import SparkSession\n",
    "from pyspark.sql.functions import udf\n",
    "from pyspark.sql.types import *\n",
    "from pyspark.sql.functions import *"
   ]
  },
  {
   "cell_type": "code",
   "execution_count": 3,
   "id": "painful-suicide",
   "metadata": {},
   "outputs": [],
   "source": [
    "spark = (\n",
    "    SparkSession.builder\n",
    "    .appName(\"UpdateEmployeeRecords\")\n",
    "    .enableHiveSupport()\n",
    "    .getOrCreate()\n",
    ")"
   ]
  },
  {
   "cell_type": "code",
   "execution_count": 4,
   "id": "digital-feeling",
   "metadata": {},
   "outputs": [],
   "source": [
    "flat_schema = \"first_name STRING, last_name STRING, salary INT, dept_name STRING, salary_increment float\"\n",
    "flat_file = \"flat_data.csv\""
   ]
  },
  {
   "cell_type": "code",
   "execution_count": 5,
   "id": "renewable-oxide",
   "metadata": {},
   "outputs": [],
   "source": [
    "flat_data = spark.read.format(\"csv\").schema(flat_schema).option(\"header\",\"true\").load(flat_file)"
   ]
  },
  {
   "cell_type": "code",
   "execution_count": 7,
   "id": "according-monkey",
   "metadata": {},
   "outputs": [],
   "source": [
    "create_dept_tbl = \"\"\"\n",
    "CREATE TABLE IF NOT EXISTS department (\n",
    "id STRING,\n",
    "name STRING, \n",
    "salary_increment INT\n",
    ");\n",
    "\"\"\""
   ]
  },
  {
   "cell_type": "code",
   "execution_count": 8,
   "id": "greater-express",
   "metadata": {},
   "outputs": [
    {
     "data": {
      "text/plain": [
       "DataFrame[]"
      ]
     },
     "execution_count": 8,
     "metadata": {},
     "output_type": "execute_result"
    }
   ],
   "source": [
    "spark.sql(create_dept_tbl)"
   ]
  },
  {
   "cell_type": "code",
   "execution_count": 11,
   "id": "amended-renaissance",
   "metadata": {},
   "outputs": [],
   "source": [
    "dist_data = flat_data.select(\"dept_name\", \"salary_increment\").distinct()\n",
    "dist_dept_id = dist_data.select(\"*\").withColumn(\"id\",expr(\"uuid()\"))"
   ]
  },
  {
   "cell_type": "code",
   "execution_count": 13,
   "id": "sized-supplement",
   "metadata": {},
   "outputs": [
    {
     "name": "stdout",
     "output_type": "stream",
     "text": [
      "+---------+----------------+--------------------+\n",
      "|dept_name|salary_increment|                  id|\n",
      "+---------+----------------+--------------------+\n",
      "|Marketing|            16.0|1c92fbec-b6c6-4c7...|\n",
      "|    Sales|            17.0|51a4ded2-759a-4e9...|\n",
      "|       IT|            15.0|3db4b954-a262-491...|\n",
      "|  Finance|            10.0|ee19cd5e-7003-4c2...|\n",
      "+---------+----------------+--------------------+\n",
      "\n"
     ]
    }
   ],
   "source": [
    "dist_dept_id.show()"
   ]
  },
  {
   "cell_type": "code",
   "execution_count": 15,
   "id": "vital-tokyo",
   "metadata": {},
   "outputs": [
    {
     "data": {
      "text/plain": [
       "DataFrame[]"
      ]
     },
     "execution_count": 15,
     "metadata": {},
     "output_type": "execute_result"
    }
   ],
   "source": [
    "spark.sql(\"INSERT INTO department(name, salary_increment,id) VALUES('Sales',0,0)\")"
   ]
  },
  {
   "cell_type": "code",
   "execution_count": 17,
   "id": "cellular-header",
   "metadata": {},
   "outputs": [],
   "source": [
    "dist_dept_id.createOrReplaceGlobalTempView(\"new_department\")"
   ]
  },
  {
   "cell_type": "code",
   "execution_count": null,
   "id": "artificial-seventh",
   "metadata": {},
   "outputs": [],
   "source": [
    "spark"
   ]
  }
 ],
 "metadata": {
  "kernelspec": {
   "display_name": "Python 3",
   "language": "python",
   "name": "python3"
  },
  "language_info": {
   "codemirror_mode": {
    "name": "ipython",
    "version": 3
   },
   "file_extension": ".py",
   "mimetype": "text/x-python",
   "name": "python",
   "nbconvert_exporter": "python",
   "pygments_lexer": "ipython3",
   "version": "3.7.5"
  }
 },
 "nbformat": 4,
 "nbformat_minor": 5
}
