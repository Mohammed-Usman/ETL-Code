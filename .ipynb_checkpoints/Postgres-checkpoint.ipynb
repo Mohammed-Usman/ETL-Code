{
 "cells": [
  {
   "cell_type": "code",
   "execution_count": 23,
   "id": "basic-engineering",
   "metadata": {},
   "outputs": [],
   "source": [
    "#!pip install psycopg2"
   ]
  },
  {
   "cell_type": "code",
   "execution_count": 9,
   "id": "lasting-scroll",
   "metadata": {},
   "outputs": [],
   "source": [
    "import psycopg2\n",
    "from psycopg2 import Error\n",
    "\n",
    "try:\n",
    "    # Connect to an existing database\n",
    "    connection = psycopg2.connect(user=\"postgres\",host=\"localhost\", port=\"5432\", database=\"etlcode\",password=\"usman123\")\n",
    "except Exception as e:\n",
    "    print(e)\n",
    "    "
   ]
  },
  {
   "cell_type": "code",
   "execution_count": 10,
   "id": "legitimate-posting",
   "metadata": {},
   "outputs": [],
   "source": [
    "#CREATE EXTENSION IF NOT EXISTS \"uuid-ossp\";\n",
    "# SELECT uuid_generate_v4();"
   ]
  },
  {
   "cell_type": "code",
   "execution_count": 11,
   "id": "british-nelson",
   "metadata": {},
   "outputs": [],
   "source": [
    "create_dept_table = \"\"\"CREATE TABLE IF NOT EXISTS department(\n",
    "id UUID PRIMARY KEY DEFAULT uuid_generate_v4(),\n",
    "name TEXT,\n",
    "salary_increment NUMERIC,\n",
    "UNIQUE(name)\n",
    ");\n",
    "\"\"\""
   ]
  },
  {
   "cell_type": "code",
   "execution_count": 12,
   "id": "separated-portsmouth",
   "metadata": {},
   "outputs": [],
   "source": [
    "create_emp_table = \"\"\"\n",
    "CREATE TABLE IF NOT EXISTS employee(\n",
    "    id UUID PRIMARY KEY DEFAULT uuid_generate_v4(),\n",
    "    first_name TEXT,\n",
    "    last_name TEXT,\n",
    "    salary NUMERIC,\n",
    "    department_id uuid,\n",
    "    UNIQUE(first_name,last_name),\n",
    "    CONSTRAINT fk_department\n",
    "    FOREIGN KEY(department_id) \n",
    "    REFERENCES department(id)\n",
    ");\n",
    "\"\"\""
   ]
  },
  {
   "cell_type": "code",
   "execution_count": 13,
   "id": "formal-highway",
   "metadata": {},
   "outputs": [],
   "source": [
    "create_up_sal_table = \"\"\"\n",
    "CREATE TABLE IF NOT EXISTS updated_salaries(\n",
    "employee_id uuid,\n",
    "updated_salary NUMERIC,\n",
    "UNIQUE(employee_id),\n",
    "CONSTRAINT fk_employee\n",
    "    FOREIGN KEY(employee_id) \n",
    "    REFERENCES employee(id)\n",
    ")\n",
    "\"\"\""
   ]
  },
  {
   "cell_type": "code",
   "execution_count": 43,
   "id": "northern-filing",
   "metadata": {},
   "outputs": [
    {
     "ename": "ProgrammingError",
     "evalue": "syntax error at or near \"INSERT\"\nLINE 2: CREATE TRIGGER insert_uuid_updated_salAFTER INSERT ON employ...\n                                                    ^\n",
     "output_type": "error",
     "traceback": [
      "\u001b[0;31m---------------------------------------------------------------------------\u001b[0m",
      "\u001b[0;31mProgrammingError\u001b[0m                          Traceback (most recent call last)",
      "\u001b[0;32m<ipython-input-43-0c1e1c4ef7f5>\u001b[0m in \u001b[0;36m<module>\u001b[0;34m\u001b[0m\n\u001b[1;32m      7\u001b[0m \u001b[0mAFTER\u001b[0m \u001b[0mINSERT\u001b[0m\u001b[0;31m \u001b[0m\u001b[0;31m\\\u001b[0m\u001b[0;34m\u001b[0m\u001b[0;34m\u001b[0m\u001b[0m\n\u001b[1;32m      8\u001b[0m \u001b[0mON\u001b[0m \u001b[0memployee\u001b[0m\u001b[0;31m \u001b[0m\u001b[0;31m\\\u001b[0m\u001b[0;34m\u001b[0m\u001b[0;34m\u001b[0m\u001b[0m\n\u001b[0;32m----> 9\u001b[0;31m FOR EACH ROW INSERT INTO updated_salaries (uuid) VALUES (NEW.uuid)\"\"\")\n\u001b[0m\u001b[1;32m     10\u001b[0m \u001b[0mcur\u001b[0m\u001b[0;34m.\u001b[0m\u001b[0mclose\u001b[0m\u001b[0;34m(\u001b[0m\u001b[0;34m)\u001b[0m\u001b[0;34m\u001b[0m\u001b[0;34m\u001b[0m\u001b[0m\n\u001b[1;32m     11\u001b[0m \u001b[0mconnection\u001b[0m\u001b[0;34m.\u001b[0m\u001b[0mcommit\u001b[0m\u001b[0;34m(\u001b[0m\u001b[0;34m)\u001b[0m\u001b[0;34m\u001b[0m\u001b[0;34m\u001b[0m\u001b[0m\n",
      "\u001b[0;31mProgrammingError\u001b[0m: syntax error at or near \"INSERT\"\nLINE 2: CREATE TRIGGER insert_uuid_updated_salAFTER INSERT ON employ...\n                                                    ^\n"
     ]
    }
   ],
   "source": [
    "cur = connection.cursor()\n",
    "cur.execute(create_dept_table)\n",
    "cur.execute(create_emp_table)\n",
    "cur.execute(create_up_sal_table)\n",
    "cur.execute(\"\"\"\n",
    "CREATE TRIGGER insert_uuid_updated_sal\\\n",
    "AFTER INSERT \\\n",
    "ON employee \\\n",
    "FOR EACH ROW INSERT INTO updated_salaries (uuid) VALUES (NEW.uuid)\"\"\")\n",
    "cur.close()\n",
    "connection.commit()"
   ]
  },
  {
   "cell_type": "code",
   "execution_count": 15,
   "id": "aquatic-sharp",
   "metadata": {},
   "outputs": [
    {
     "ename": "InternalError",
     "evalue": "current transaction is aborted, commands ignored until end of transaction block\n",
     "output_type": "error",
     "traceback": [
      "\u001b[0;31m---------------------------------------------------------------------------\u001b[0m",
      "\u001b[0;31mInternalError\u001b[0m                             Traceback (most recent call last)",
      "\u001b[0;32m<ipython-input-15-0959cab8f349>\u001b[0m in \u001b[0;36m<module>\u001b[0;34m\u001b[0m\n\u001b[1;32m      1\u001b[0m \u001b[0mcur\u001b[0m \u001b[0;34m=\u001b[0m \u001b[0mconnection\u001b[0m\u001b[0;34m.\u001b[0m\u001b[0mcursor\u001b[0m\u001b[0;34m(\u001b[0m\u001b[0;34m)\u001b[0m\u001b[0;34m\u001b[0m\u001b[0;34m\u001b[0m\u001b[0m\n\u001b[0;32m----> 2\u001b[0;31m \u001b[0mcur\u001b[0m\u001b[0;34m.\u001b[0m\u001b[0mexecute\u001b[0m\u001b[0;34m(\u001b[0m\u001b[0;34m\"DROP TABLE updated_salaries\"\u001b[0m\u001b[0;34m)\u001b[0m\u001b[0;34m\u001b[0m\u001b[0;34m\u001b[0m\u001b[0m\n\u001b[0m\u001b[1;32m      3\u001b[0m \u001b[0mcur\u001b[0m\u001b[0;34m.\u001b[0m\u001b[0mexecute\u001b[0m\u001b[0;34m(\u001b[0m\u001b[0;34m\"DROP TABLE employee\"\u001b[0m\u001b[0;34m)\u001b[0m\u001b[0;34m\u001b[0m\u001b[0;34m\u001b[0m\u001b[0m\n\u001b[1;32m      4\u001b[0m \u001b[0mcur\u001b[0m\u001b[0;34m.\u001b[0m\u001b[0mexecute\u001b[0m\u001b[0;34m(\u001b[0m\u001b[0;34m\"DROP TABLE department\"\u001b[0m\u001b[0;34m)\u001b[0m\u001b[0;34m\u001b[0m\u001b[0;34m\u001b[0m\u001b[0m\n\u001b[1;32m      5\u001b[0m \u001b[0;34m\u001b[0m\u001b[0m\n",
      "\u001b[0;31mInternalError\u001b[0m: current transaction is aborted, commands ignored until end of transaction block\n"
     ]
    }
   ],
   "source": [
    "cur = connection.cursor()\n",
    "cur.execute(\"DROP TABLE updated_salaries\")\n",
    "cur.execute(\"DROP TABLE employee\")\n",
    "cur.execute(\"DROP TABLE department\")\n",
    "\n"
   ]
  },
  {
   "cell_type": "code",
   "execution_count": 42,
   "id": "infinite-hampshire",
   "metadata": {},
   "outputs": [],
   "source": [
    "cur.close()\n",
    "connection.commit()\n"
   ]
  },
  {
   "cell_type": "raw",
   "id": "assigned-brooks",
   "metadata": {},
   "source": [
    "!pyspark --packages org.postgresql:postgresql:42.2.10"
   ]
  },
  {
   "cell_type": "code",
   "execution_count": 143,
   "id": "nuclear-description",
   "metadata": {},
   "outputs": [
    {
     "name": "stderr",
     "output_type": "stream",
     "text": [
      "Usage: pipenv [OPTIONS] COMMAND [ARGS]...\n",
      "Try \"pipenv -h\" for help.\n",
      "\n",
      "Error: no such option: --packages\n"
     ]
    }
   ],
   "source": [
    "!pipenv --packages org.postgresql:postgresql:42.2.10"
   ]
  },
  {
   "cell_type": "code",
   "execution_count": null,
   "id": "hourly-march",
   "metadata": {},
   "outputs": [],
   "source": [
    "#search for it \n",
    "\"\"\"\n",
    "--MERGE SQL statement - Part 2\n",
    "\n",
    "--Synchronize the target table with refreshed data from source table\n",
    "MERGE Products AS TARGET\n",
    "USING UpdatedProducts AS SOURCE \n",
    "ON (TARGET.ProductID = SOURCE.ProductID) \n",
    "--When records are matched, update the records if there is any change\n",
    "WHEN MATCHED AND TARGET.ProductName <> SOURCE.ProductName OR TARGET.Rate <> SOURCE.Rate \n",
    "THEN UPDATE SET TARGET.ProductName = SOURCE.ProductName, TARGET.Rate = SOURCE.Rate \n",
    "--When no records are matched, insert the incoming records from source table to target table\n",
    "WHEN NOT MATCHED BY TARGET \n",
    "THEN INSERT (ProductID, ProductName, Rate) VALUES (SOURCE.ProductID, SOURCE.ProductName, SOURCE.Rate)\n",
    "--When there is a row that exists in target and same record does not exist in source then delete this record target\n",
    "WHEN NOT MATCHED BY SOURCE \n",
    "THEN DELETE \n",
    "--$action specifies a column of type nvarchar(10) in the OUTPUT clause that returns \n",
    "--one of three values for each row: 'INSERT', 'UPDATE', or 'DELETE' according to the action that was performed on that row\n",
    "OUTPUT $action, \n",
    "DELETED.ProductID AS TargetProductID, \n",
    "DELETED.ProductName AS TargetProductName, \n",
    "DELETED.Rate AS TargetRate, \n",
    "INSERTED.ProductID AS SourceProductID, \n",
    "INSERTED.ProductName AS SourceProductName, \n",
    "INSERTED.Rate AS SourceRate; \n",
    "\n",
    "SELECT @@ROWCOUNT;\n",
    "GO\n",
    "\n",
    "\"\"\""
   ]
  },
  {
   "cell_type": "code",
   "execution_count": 65,
   "id": "favorite-kinase",
   "metadata": {},
   "outputs": [
    {
     "ename": "NameError",
     "evalue": "name 'spark' is not defined",
     "output_type": "error",
     "traceback": [
      "\u001b[0;31m---------------------------------------------------------------------------\u001b[0m",
      "\u001b[0;31mNameError\u001b[0m                                 Traceback (most recent call last)",
      "\u001b[0;32m<ipython-input-65-ec4807a5ab2f>\u001b[0m in \u001b[0;36m<module>\u001b[0;34m\u001b[0m\n\u001b[0;32m----> 1\u001b[0;31m \u001b[0mjdbcDF\u001b[0m \u001b[0;34m=\u001b[0m \u001b[0mspark\u001b[0m\u001b[0;34m.\u001b[0m\u001b[0mread\u001b[0m\u001b[0;34m.\u001b[0m\u001b[0mformat\u001b[0m\u001b[0;34m(\u001b[0m\u001b[0;34m\"jdbc\"\u001b[0m\u001b[0;34m)\u001b[0m\u001b[0;34m.\u001b[0m\u001b[0;31m \u001b[0m\u001b[0;31m\\\u001b[0m\u001b[0;34m\u001b[0m\u001b[0;34m\u001b[0m\u001b[0m\n\u001b[0m\u001b[1;32m      2\u001b[0m options(\n\u001b[1;32m      3\u001b[0m          \u001b[0murl\u001b[0m\u001b[0;34m=\u001b[0m\u001b[0;34m'jdbc:postgresql://localhost:5432/etlcode'\u001b[0m\u001b[0;34m,\u001b[0m \u001b[0;31m# jdbc:postgresql://<host>:<port>/<database>\u001b[0m\u001b[0;34m\u001b[0m\u001b[0;34m\u001b[0m\u001b[0m\n\u001b[1;32m      4\u001b[0m          \u001b[0mdbtable\u001b[0m\u001b[0;34m=\u001b[0m\u001b[0;34m'department'\u001b[0m\u001b[0;34m,\u001b[0m\u001b[0;34m\u001b[0m\u001b[0;34m\u001b[0m\u001b[0m\n\u001b[1;32m      5\u001b[0m          \u001b[0muser\u001b[0m\u001b[0;34m=\u001b[0m\u001b[0;34m'postgres'\u001b[0m\u001b[0;34m,\u001b[0m\u001b[0;34m\u001b[0m\u001b[0;34m\u001b[0m\u001b[0m\n",
      "\u001b[0;31mNameError\u001b[0m: name 'spark' is not defined"
     ]
    }
   ],
   "source": [
    "jdbcDF = spark.read.format(\"jdbc\"). \\\n",
    "options(\n",
    "         url='jdbc:postgresql://localhost:5432/etlcode', # jdbc:postgresql://<host>:<port>/<database>\n",
    "         dbtable='department',\n",
    "         user='postgres',\n",
    "         password='',\n",
    "         driver='org.postgresql.Driver').\\\n",
    "load()"
   ]
  },
  {
   "cell_type": "code",
   "execution_count": 59,
   "id": "supported-cutting",
   "metadata": {},
   "outputs": [
    {
     "name": "stdout",
     "output_type": "stream",
     "text": [
      "  main\u001b[m\r\n",
      "* \u001b[32mmaster\u001b[m\r\n"
     ]
    }
   ],
   "source": [
    "!git branch"
   ]
  },
  {
   "cell_type": "code",
   "execution_count": 64,
   "id": "animated-convertible",
   "metadata": {},
   "outputs": [
    {
     "name": "stdout",
     "output_type": "stream",
     "text": [
      "On branch master\r\n",
      "Your branch is ahead of 'origin/master' by 1 commit.\r\n",
      "  (use \"git push\" to publish your local commits)\r\n",
      "\r\n",
      "nothing to commit, working tree clean\r\n"
     ]
    }
   ],
   "source": [
    "!git status"
   ]
  },
  {
   "cell_type": "code",
   "execution_count": 63,
   "id": "prescribed-reset",
   "metadata": {},
   "outputs": [
    {
     "name": "stdout",
     "output_type": "stream",
     "text": [
      "[master 4542a19] Deleted JAr For Windwos\r\n",
      " 2 files changed, 22 insertions(+), 24 deletions(-)\r\n",
      " delete mode 100644 postgresql-42.2.19.jar\r\n"
     ]
    }
   ],
   "source": [
    "!git commit -a -m \"Deleted JAr For Windwos\"\n"
   ]
  },
  {
   "cell_type": "code",
   "execution_count": 1,
   "id": "liberal-bidding",
   "metadata": {},
   "outputs": [],
   "source": [
    "# CREATE TRIGGER last_name_changes\n",
    "#   BEFORE UPDATE\n",
    "#   ON employees\n",
    "#   FOR EACH ROW\n",
    "#   EXECUTE PROCEDURE log_last_name_changes();"
   ]
  },
  {
   "cell_type": "code",
   "execution_count": null,
   "id": "bizarre-proof",
   "metadata": {},
   "outputs": [],
   "source": [
    "create_spark_dept_table = \"\"\"CREATE TABLE IF NOT EXISTS department(\n",
    "id ,\n",
    "name TEXT,\n",
    "salary_increment NUMERIC\n",
    ");"
   ]
  }
 ],
 "metadata": {
  "kernelspec": {
   "display_name": "Python 3",
   "language": "python",
   "name": "python3"
  },
  "language_info": {
   "codemirror_mode": {
    "name": "ipython",
    "version": 3
   },
   "file_extension": ".py",
   "mimetype": "text/x-python",
   "name": "python",
   "nbconvert_exporter": "python",
   "pygments_lexer": "ipython3",
   "version": "3.7.5"
  }
 },
 "nbformat": 4,
 "nbformat_minor": 5
}
